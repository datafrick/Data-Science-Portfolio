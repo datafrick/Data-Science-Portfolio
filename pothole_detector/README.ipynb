{
 "cells": [
  {
   "cell_type": "markdown",
   "metadata": {},
   "source": [
    "### Pothole Detection and Localization using Deep Learning (CNN)\n",
    "\n",
    "**Background**\n",
    "The nature of the road surface a vehicle plies can have a huge impact on its wear and tear rate. It’s one of the major determinants in estimating the frequency of maintenance required to keep a vehicle in good condition. Human drivers are quite good at spotting these road irregularities and manoeuvring manned vehicles to avoid them. What if we train a machine to be able to do the same? It will sure be a worthwhile.<br> \n",
    "<br>\n",
    "**Solution** <br>\n",
    "In this project, I have built a binary classifier capable of detecting the presence of potholes and irregulaties on a road surface using Convolution Neural Network (CNN). I will be including localization as a regression model later on to create bounding boxes around the pothole locations.\n",
    "\n",
    "**Areas of commercial application** <br>\n",
    ">Insurance – to aid objective vehicle insurance premium calculation <br>\n",
    ">Road network maintenance - government agencies <br> \n",
    ">Autonomous vehicle  vision <br>\n",
    "<br>\n",
    "\n",
    "**Data source** <br>\n",
    "The data was made available from [this](https://www.researchgate.net/publication/279538022_Detecting_Potholes_Using_Simple_Image_Processing_Techniques_and_Real-World_Footage) academic research work through [this](https://drive.google.com/drive/folders/1vUmCvdW3-2lMrhsMbXdMWeLcEz__Ocuy) shared google drive folder. \n",
    "<br>"
   ]
  },
  {
   "cell_type": "code",
   "execution_count": null,
   "metadata": {},
   "outputs": [],
   "source": []
  }
 ],
 "metadata": {
  "kernelspec": {
   "display_name": "Python 3",
   "language": "python",
   "name": "python3"
  },
  "language_info": {
   "codemirror_mode": {
    "name": "ipython",
    "version": 3
   },
   "file_extension": ".py",
   "mimetype": "text/x-python",
   "name": "python",
   "nbconvert_exporter": "python",
   "pygments_lexer": "ipython3",
   "version": "3.6.2"
  }
 },
 "nbformat": 4,
 "nbformat_minor": 2
}
